{
 "cells": [
  {
   "cell_type": "code",
   "execution_count": 6,
   "metadata": {},
   "outputs": [],
   "source": [
    "import json, pylast\n",
    "from queue import Queue\n",
    "file = open('cred.json', 'r')\n",
    "creds = json.load(file)\n",
    "api = creds['key']\n",
    "secret = creds['secret']\n",
    "lastfm = pylast.LastFMNetwork(api_key=api, api_secret=secret)"
   ]
  },
  {
   "cell_type": "code",
   "execution_count": 7,
   "metadata": {},
   "outputs": [],
   "source": [
    "import spotipy\n",
    "\n",
    "spotify = spotipy.Spotify(auth=creds['spot'])"
   ]
  },
  {
   "cell_type": "code",
   "execution_count": 8,
   "metadata": {},
   "outputs": [],
   "source": [
    "class DataSpider:\n",
    "    \n",
    "    def __init__(self, network):\n",
    "        self.status_user = {}\n",
    "        self.queue = Queue()\n",
    "        self.bad_queue = Queue()\n",
    "        self.country_count = {}\n",
    "        self.network = network\n",
    "        self.memo_tracks = {}\n",
    "        \n",
    "    def add_to_queue(self, user_name):\n",
    "        if user_name in self.status_user:\n",
    "            return\n",
    "        user = pylast.User(user_name, self.network)\n",
    "        try:\n",
    "            country = user.get_country().get_name()\n",
    "        except:\n",
    "            return\n",
    "        if country not in self.country_count:\n",
    "            self.country_count[country] = 0\n",
    "        self.country_count[country] += 1\n",
    "        if country == 'Brazil':\n",
    "            self.queue.put(user)\n",
    "        else:\n",
    "            self.bad_queue.put(user)\n",
    "        self.status_user[user_name] = country\n",
    "        \n",
    "        \n",
    "    def user_net(self, user):\n",
    "        friends = user.get_friends(limit = 200)\n",
    "        for friend in friends: \n",
    "            self.add_to_queue(friend.get_name())\n",
    "        \n",
    "        \n",
    "    def run(self, rounds = 1):\n",
    "        while rounds > 0:\n",
    "            if not self.queue.empty():\n",
    "                user = self.queue.get()\n",
    "                self.process_user(user)\n",
    "                self.user_net(user)\n",
    "            elif not self.bad_queue.empty():\n",
    "                user = self.bad_queue.get()\n",
    "                self.user_net(user)\n",
    "            else:\n",
    "                return \"lacking users\"\n",
    "            rounds -= 1\n",
    "            print(\"Remaining rounds: \" + str(rounds))\n",
    "            print(self.country_count)\n",
    "                \n",
    "                \n",
    "    def track_genre(self, track):\n",
    "        if track not in self.memo_tracks:\n",
    "            self.memo_tracks[track] = spotify.search(q='track:' + str(track), type='track', limit=1)\n",
    "            #print(track.get_top_tags())\n",
    "        return self.memo_tracks[track]\n",
    "    \n",
    "    def process_user(self, user_name):\n",
    "        user = pylast.User(user_name, self.network)\n",
    "        tracks = user.get_recent_tracks(limit=10)\n",
    "        for track in tracks:\n",
    "            tags = self.track_genre(track.track)\n",
    " \n",
    "dss = DataSpider(lastfm)\n",
    "user_names = ['arthurlpgc', 'cobralibre']\n",
    "for name in user_names:\n",
    "    dss.add_to_queue(name)"
   ]
  },
  {
   "cell_type": "code",
   "execution_count": 9,
   "metadata": {},
   "outputs": [
    {
     "name": "stdout",
     "output_type": "stream",
     "text": [
      "{'None': 1, 'United States': 1}\n"
     ]
    }
   ],
   "source": [
    "\n",
    "#dss.run(20)\n",
    "print(dss.country_count)"
   ]
  },
  {
   "cell_type": "code",
   "execution_count": 10,
   "metadata": {},
   "outputs": [],
   "source": [
    "dss.process_user(\"arthurlpgc\")"
   ]
  },
  {
   "cell_type": "code",
   "execution_count": null,
   "metadata": {},
   "outputs": [],
   "source": []
  },
  {
   "cell_type": "code",
   "execution_count": null,
   "metadata": {},
   "outputs": [],
   "source": [
    "name = 'Radiohead'\n",
    "\n",
    "results = spotify.search(q='track:' + name, type='track')\n",
    "print(results)"
   ]
  },
  {
   "cell_type": "code",
   "execution_count": null,
   "metadata": {},
   "outputs": [],
   "source": []
  }
 ],
 "metadata": {
  "kernelspec": {
   "display_name": "Python 3",
   "language": "python",
   "name": "python3"
  },
  "language_info": {
   "codemirror_mode": {
    "name": "ipython",
    "version": 3
   },
   "file_extension": ".py",
   "mimetype": "text/x-python",
   "name": "python",
   "nbconvert_exporter": "python",
   "pygments_lexer": "ipython3",
   "version": "3.6.4"
  }
 },
 "nbformat": 4,
 "nbformat_minor": 2
}
